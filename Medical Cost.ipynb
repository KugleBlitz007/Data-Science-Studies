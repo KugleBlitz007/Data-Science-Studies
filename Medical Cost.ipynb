{
 "cells": [
  {
   "cell_type": "markdown",
   "id": "06c34bda-7ed4-481d-8c9a-fb0774da873d",
   "metadata": {},
   "source": [
    "# CSI 4142 Fundamentals of Data Science, Winter 2025\n",
    "# Assignment 3 - Predictive Analysis - Regression and Classification\n",
    "\n",
    "## Group A - 72\n",
    "### Hilaire Junior Kalala - 300289737\n",
    "### Johann Rajosefa - 300300054\n",
    " "
   ]
  },
  {
   "cell_type": "markdown",
   "id": "2fde152b-d4e5-4a2d-b75d-47b1ff596cb8",
   "metadata": {},
   "source": [
    "## 1. Introduction\n",
    "\n",
    "As part of Assignment 3 in the Fundamentals of Data Science course, we conducted a regression empirical study with linear regression. This project involved implementing and evaluating a linear regression approach for a predictive task. Additionally, we assessed the impact of removing outliers on the performance of the regression model. This study allowed us to apply several key concepts covered in class, particularly the crucial steps of data processing, including data cleaning, feature engineering, and outlier detection using the Local Outlier Factor (LOF) method.\n",
    "\n",
    "To use the notebook, each cell can be executed to reproduce the steps taken in this study. However, they must be run in order; otherwise, errors may occur."
   ]
  },
  {
   "cell_type": "markdown",
   "id": "5aed314d-9a4f-459e-a351-9e4ee8f9534d",
   "metadata": {},
   "source": [
    "## 2. Dataset description : Medical Cost Personal Datasets\n",
    "\n",
    "The chosen dataset, is designed to predict individual medical insurance charges billed by health insurance companies. It contains 1,338 entries, each representing a unique individual, with the following features:\n",
    "\n",
    "    age: Age of the individual (integer)\n",
    "\n",
    "    sex: Gender of the individual (male/female)\n",
    "\n",
    "    bmi: Body Mass Index, a measure of body fat based on height and weight (float)\n",
    "\n",
    "    children: Number of children/dependents covered by the insurance (integer)\n",
    "\n",
    "    smoker: Smoking status of the individual (yes/no)\n",
    "\n",
    "    region: Residential area in the U.S. (northeast, northwest, southeast, southwest)\n",
    "\n",
    "    charges: Individual medical insurance charges billed by the insurance company (float)\n",
    "\n",
    "This dataset is commonly used for regression analysis to understand how these variables influence medical insurance costs. It provides an excellent opportunity to apply linear regression techniques and assess the impact of factors like age, BMI, and smoking status on insurance charges."
   ]
  },
  {
   "cell_type": "code",
   "execution_count": 58,
   "id": "842f0052-8666-427c-8c72-8339dcff6964",
   "metadata": {},
   "outputs": [
    {
     "name": "stdout",
     "output_type": "stream",
     "text": [
      "<class 'pandas.core.frame.DataFrame'>\n",
      "RangeIndex: 1338 entries, 0 to 1337\n",
      "Data columns (total 7 columns):\n",
      " #   Column    Non-Null Count  Dtype  \n",
      "---  ------    --------------  -----  \n",
      " 0   age       1338 non-null   int64  \n",
      " 1   sex       1338 non-null   object \n",
      " 2   bmi       1338 non-null   float64\n",
      " 3   children  1338 non-null   int64  \n",
      " 4   smoker    1338 non-null   object \n",
      " 5   region    1338 non-null   object \n",
      " 6   charges   1338 non-null   float64\n",
      "dtypes: float64(2), int64(2), object(3)\n",
      "memory usage: 73.3+ KB\n"
     ]
    }
   ],
   "source": [
    "# Initialization of libraries and dataset I am going to work with for the Data Clean Checker part\n",
    "import os\n",
    "import numpy as np\n",
    "import pandas as pd\n",
    "\n",
    "#Initialization of the dataset\n",
    "med_dt = pd.read_csv(\"https://raw.githubusercontent.com/KugleBlitz007/CSI4142/f9b38d85aeae627aad6c6e2849e4b333363e9bc3/insurance.csv\")\n",
    "med_dt.info()"
   ]
  },
  {
   "cell_type": "markdown",
   "id": "0ba560e1-0243-4b70-9040-5ac737830d94",
   "metadata": {},
   "source": [
    "## 3. Regression empirical study with Linear Regression"
   ]
  },
  {
   "cell_type": "markdown",
   "id": "04fbf607-a443-49c3-9190-2cea8bb3d0be",
   "metadata": {},
   "source": [
    "### a) Cleaning the data\n",
    "In the previous assignment on Data Cleaning (Assignment 2), we implemented ten different functions to test the validity of a dataset. For this study, I will use data type check (for the age, charges and BMI columns), the Look-up Errors Check (for the sex, smoker and region columns) and and Exact Duplicate Check functions to verify the validity of the data for each variable. I chose only these 3 functions because they seemed the most relevant for the dataset I am working on. Additionally, the nature of the variables does not allow for other types of tests."
   ]
  },
  {
   "cell_type": "code",
   "execution_count": 33,
   "id": "7dbf015e-2ca0-4765-a04f-fcc160cfe485",
   "metadata": {},
   "outputs": [
    {
     "data": {
      "text/html": [
       "<div>\n",
       "<style scoped>\n",
       "    .dataframe tbody tr th:only-of-type {\n",
       "        vertical-align: middle;\n",
       "    }\n",
       "\n",
       "    .dataframe tbody tr th {\n",
       "        vertical-align: top;\n",
       "    }\n",
       "\n",
       "    .dataframe thead th {\n",
       "        text-align: right;\n",
       "    }\n",
       "</style>\n",
       "<table border=\"1\" class=\"dataframe\">\n",
       "  <thead>\n",
       "    <tr style=\"text-align: right;\">\n",
       "      <th></th>\n",
       "      <th>age</th>\n",
       "      <th>sex</th>\n",
       "      <th>bmi</th>\n",
       "      <th>children</th>\n",
       "      <th>smoker</th>\n",
       "      <th>region</th>\n",
       "      <th>charges</th>\n",
       "    </tr>\n",
       "  </thead>\n",
       "  <tbody>\n",
       "  </tbody>\n",
       "</table>\n",
       "</div>"
      ],
      "text/plain": [
       "Empty DataFrame\n",
       "Columns: [age, sex, bmi, children, smoker, region, charges]\n",
       "Index: []"
      ]
     },
     "execution_count": 33,
     "metadata": {},
     "output_type": "execute_result"
    }
   ],
   "source": [
    "#First, we are gonna check that each row is unique and drop the duplicates if we find them\n",
    "med_dt = med_dt.drop_duplicates(keep = False)\n",
    "duplicates = med_dt[med_dt.duplicated(keep = 'first')]\n",
    "duplicates\n"
   ]
  },
  {
   "cell_type": "code",
   "execution_count": 39,
   "id": "6248a5ec-1903-40cf-850c-9cbf2c10fca6",
   "metadata": {},
   "outputs": [
    {
     "name": "stdout",
     "output_type": "stream",
     "text": [
      "Empty DataFrame\n",
      "Columns: [age, sex, bmi, children, smoker, region, charges]\n",
      "Index: []\n",
      "Empty DataFrame\n",
      "Columns: [age, sex, bmi, children, smoker, region, charges]\n",
      "Index: []\n",
      "Empty DataFrame\n",
      "Columns: [age, sex, bmi, children, smoker, region, charges]\n",
      "Index: []\n"
     ]
    },
    {
     "data": {
      "text/html": [
       "<div>\n",
       "<style scoped>\n",
       "    .dataframe tbody tr th:only-of-type {\n",
       "        vertical-align: middle;\n",
       "    }\n",
       "\n",
       "    .dataframe tbody tr th {\n",
       "        vertical-align: top;\n",
       "    }\n",
       "\n",
       "    .dataframe thead th {\n",
       "        text-align: right;\n",
       "    }\n",
       "</style>\n",
       "<table border=\"1\" class=\"dataframe\">\n",
       "  <thead>\n",
       "    <tr style=\"text-align: right;\">\n",
       "      <th></th>\n",
       "      <th>age</th>\n",
       "      <th>sex</th>\n",
       "      <th>bmi</th>\n",
       "      <th>children</th>\n",
       "      <th>smoker</th>\n",
       "      <th>region</th>\n",
       "      <th>charges</th>\n",
       "    </tr>\n",
       "  </thead>\n",
       "  <tbody>\n",
       "    <tr>\n",
       "      <th>0</th>\n",
       "      <td>19</td>\n",
       "      <td>female</td>\n",
       "      <td>27.900</td>\n",
       "      <td>0</td>\n",
       "      <td>yes</td>\n",
       "      <td>southwest</td>\n",
       "      <td>16884.92400</td>\n",
       "    </tr>\n",
       "    <tr>\n",
       "      <th>1</th>\n",
       "      <td>18</td>\n",
       "      <td>male</td>\n",
       "      <td>33.770</td>\n",
       "      <td>1</td>\n",
       "      <td>no</td>\n",
       "      <td>southeast</td>\n",
       "      <td>1725.55230</td>\n",
       "    </tr>\n",
       "    <tr>\n",
       "      <th>2</th>\n",
       "      <td>28</td>\n",
       "      <td>male</td>\n",
       "      <td>33.000</td>\n",
       "      <td>3</td>\n",
       "      <td>no</td>\n",
       "      <td>southeast</td>\n",
       "      <td>4449.46200</td>\n",
       "    </tr>\n",
       "    <tr>\n",
       "      <th>3</th>\n",
       "      <td>33</td>\n",
       "      <td>male</td>\n",
       "      <td>22.705</td>\n",
       "      <td>0</td>\n",
       "      <td>no</td>\n",
       "      <td>northwest</td>\n",
       "      <td>21984.47061</td>\n",
       "    </tr>\n",
       "    <tr>\n",
       "      <th>4</th>\n",
       "      <td>32</td>\n",
       "      <td>male</td>\n",
       "      <td>28.880</td>\n",
       "      <td>0</td>\n",
       "      <td>no</td>\n",
       "      <td>northwest</td>\n",
       "      <td>3866.85520</td>\n",
       "    </tr>\n",
       "    <tr>\n",
       "      <th>5</th>\n",
       "      <td>31</td>\n",
       "      <td>female</td>\n",
       "      <td>25.740</td>\n",
       "      <td>0</td>\n",
       "      <td>no</td>\n",
       "      <td>southeast</td>\n",
       "      <td>3756.62160</td>\n",
       "    </tr>\n",
       "    <tr>\n",
       "      <th>6</th>\n",
       "      <td>46</td>\n",
       "      <td>female</td>\n",
       "      <td>33.440</td>\n",
       "      <td>1</td>\n",
       "      <td>no</td>\n",
       "      <td>southeast</td>\n",
       "      <td>8240.58960</td>\n",
       "    </tr>\n",
       "    <tr>\n",
       "      <th>7</th>\n",
       "      <td>37</td>\n",
       "      <td>female</td>\n",
       "      <td>27.740</td>\n",
       "      <td>3</td>\n",
       "      <td>no</td>\n",
       "      <td>northwest</td>\n",
       "      <td>7281.50560</td>\n",
       "    </tr>\n",
       "    <tr>\n",
       "      <th>8</th>\n",
       "      <td>37</td>\n",
       "      <td>male</td>\n",
       "      <td>29.830</td>\n",
       "      <td>2</td>\n",
       "      <td>no</td>\n",
       "      <td>northeast</td>\n",
       "      <td>6406.41070</td>\n",
       "    </tr>\n",
       "    <tr>\n",
       "      <th>9</th>\n",
       "      <td>60</td>\n",
       "      <td>female</td>\n",
       "      <td>25.840</td>\n",
       "      <td>0</td>\n",
       "      <td>no</td>\n",
       "      <td>northwest</td>\n",
       "      <td>28923.13692</td>\n",
       "    </tr>\n",
       "  </tbody>\n",
       "</table>\n",
       "</div>"
      ],
      "text/plain": [
       "   age     sex     bmi  children smoker     region      charges\n",
       "0   19  female  27.900         0    yes  southwest  16884.92400\n",
       "1   18    male  33.770         1     no  southeast   1725.55230\n",
       "2   28    male  33.000         3     no  southeast   4449.46200\n",
       "3   33    male  22.705         0     no  northwest  21984.47061\n",
       "4   32    male  28.880         0     no  northwest   3866.85520\n",
       "5   31  female  25.740         0     no  southeast   3756.62160\n",
       "6   46  female  33.440         1     no  southeast   8240.58960\n",
       "7   37  female  27.740         3     no  northwest   7281.50560\n",
       "8   37    male  29.830         2     no  northeast   6406.41070\n",
       "9   60  female  25.840         0     no  northwest  28923.13692"
      ]
     },
     "execution_count": 39,
     "metadata": {},
     "output_type": "execute_result"
    }
   ],
   "source": [
    "#Second, I am going to check the data type for the values of the columns : age (int), charges (float) and BMI (float)\n",
    "\n",
    "#1.Age\n",
    "invalid_values1 = med_dt[~med_dt[\"age\"].apply(lambda x: isinstance(x, int))]\n",
    "#2.Charges\n",
    "invalid_values2 = med_dt[~med_dt[\"charges\"].apply(lambda x: isinstance(x, float))]\n",
    "#3.BMI\n",
    "invalid_values3 = med_dt[~med_dt[\"bmi\"].apply(lambda x: isinstance(x, float))]\n",
    "\n",
    "#If found, print rows with containing the invalid values\n",
    "print(invalid_values1)\n",
    "print(invalid_values2)\n",
    "print(invalid_values3)\n",
    "\n",
    "#As we can see the dataset passed the data type checks"
   ]
  },
  {
   "cell_type": "code",
   "execution_count": 44,
   "id": "9e5113ca-eac9-4d94-b4ac-2da245a2feda",
   "metadata": {},
   "outputs": [
    {
     "name": "stdout",
     "output_type": "stream",
     "text": [
      "The rows containing an ivalid sex value are : \n",
      "The rows containing an ivalid smoker value are : \n",
      "The rows containing an ivalid region value are : \n"
     ]
    },
    {
     "data": {
      "text/html": [
       "<div>\n",
       "<style scoped>\n",
       "    .dataframe tbody tr th:only-of-type {\n",
       "        vertical-align: middle;\n",
       "    }\n",
       "\n",
       "    .dataframe tbody tr th {\n",
       "        vertical-align: top;\n",
       "    }\n",
       "\n",
       "    .dataframe thead th {\n",
       "        text-align: right;\n",
       "    }\n",
       "</style>\n",
       "<table border=\"1\" class=\"dataframe\">\n",
       "  <thead>\n",
       "    <tr style=\"text-align: right;\">\n",
       "      <th></th>\n",
       "      <th>age</th>\n",
       "      <th>sex</th>\n",
       "      <th>bmi</th>\n",
       "      <th>children</th>\n",
       "      <th>smoker</th>\n",
       "      <th>region</th>\n",
       "      <th>charges</th>\n",
       "    </tr>\n",
       "  </thead>\n",
       "  <tbody>\n",
       "  </tbody>\n",
       "</table>\n",
       "</div>"
      ],
      "text/plain": [
       "Empty DataFrame\n",
       "Columns: [age, sex, bmi, children, smoker, region, charges]\n",
       "Index: []"
      ]
     },
     "execution_count": 44,
     "metadata": {},
     "output_type": "execute_result"
    }
   ],
   "source": [
    "# Third, I am going to check that the values found in the columns of sex, smoker and region are in the tables of acceptable values for each of the 3 variables\n",
    "def look_up( attr, acc_values):\n",
    "    invalid_rows = med_dt[~med_dt[attr].isin(acc_values)]\n",
    "    return invalid_rows\n",
    "    \n",
    "#1.Look-up errors check on Sex\n",
    "attr = \"sex\"\n",
    "acc_values = [\"male\",\"female\"]\n",
    "print(\"The rows containing an ivalid sex value are : \")\n",
    "print(look_up(attr, acc_values))\n",
    "\n",
    "#2.Look-up errors check on Sex\n",
    "attr = \"smoker\"\n",
    "acc_values = [\"yes\",\"no\"]\n",
    "print(\"The rows containing an ivalid smoker value are : \")\n",
    "print(look_up(attr, acc_values))\n",
    "\n",
    "#3.Look-up errors check on region\n",
    "attr = \"region\"\n",
    "acc_values = [\"northeast\", \"northwest\", \"southeast\", \"southwest\"]\n",
    "print(\"The rows containing an ivalid region value are : \")\n",
    "print(look_up(attr, acc_values))\n",
    "\n",
    "#As we can see below, the dataset passed the Look-up errors check on all the 3 categrorical variables "
   ]
  },
  {
   "cell_type": "markdown",
   "id": "003f541d-c059-4a02-9d45-193c0c937ef5",
   "metadata": {},
   "source": [
    "### b) Categorical feature encoding\n",
    "Categorical feature encoding is essential for building regression models because most machine learning algorithms, including linear regression, work with numerical data. Since categorical variables contain text or labels, they need to be converted into a numerical format that the model can interpret. Without encoding, the model cannot process these categorical features, leading to errors or inaccurate predictions.\n",
    "\n",
    "To address this, I will use the One-Hot Encoding approach to transform categorical variables. This method converts each category into a binary column (0 or 1), ensuring that the model correctly interprets categorical information without assuming an ordinal relationship between categories.\n",
    "\n",
    "First, I am going to transform the sex feature into 2 new features: male and female. Then, I am going to transform the smoker feature into a numerical feature (1 for yes, 0 for no). "
   ]
  },
  {
   "cell_type": "code",
   "execution_count": 53,
   "id": "b1819b0e-6bee-424d-9e13-ba2486eb4f43",
   "metadata": {},
   "outputs": [
    {
     "data": {
      "text/html": [
       "<div>\n",
       "<style scoped>\n",
       "    .dataframe tbody tr th:only-of-type {\n",
       "        vertical-align: middle;\n",
       "    }\n",
       "\n",
       "    .dataframe tbody tr th {\n",
       "        vertical-align: top;\n",
       "    }\n",
       "\n",
       "    .dataframe thead th {\n",
       "        text-align: right;\n",
       "    }\n",
       "</style>\n",
       "<table border=\"1\" class=\"dataframe\">\n",
       "  <thead>\n",
       "    <tr style=\"text-align: right;\">\n",
       "      <th></th>\n",
       "      <th>age</th>\n",
       "      <th>sex</th>\n",
       "      <th>bmi</th>\n",
       "      <th>children</th>\n",
       "      <th>smoker</th>\n",
       "      <th>region</th>\n",
       "      <th>charges</th>\n",
       "      <th>male</th>\n",
       "      <th>female</th>\n",
       "    </tr>\n",
       "  </thead>\n",
       "  <tbody>\n",
       "    <tr>\n",
       "      <th>0</th>\n",
       "      <td>19</td>\n",
       "      <td>female</td>\n",
       "      <td>27.900</td>\n",
       "      <td>0</td>\n",
       "      <td>yes</td>\n",
       "      <td>southwest</td>\n",
       "      <td>16884.92400</td>\n",
       "      <td>0</td>\n",
       "      <td>1</td>\n",
       "    </tr>\n",
       "    <tr>\n",
       "      <th>1</th>\n",
       "      <td>18</td>\n",
       "      <td>male</td>\n",
       "      <td>33.770</td>\n",
       "      <td>1</td>\n",
       "      <td>no</td>\n",
       "      <td>southeast</td>\n",
       "      <td>1725.55230</td>\n",
       "      <td>1</td>\n",
       "      <td>0</td>\n",
       "    </tr>\n",
       "    <tr>\n",
       "      <th>2</th>\n",
       "      <td>28</td>\n",
       "      <td>male</td>\n",
       "      <td>33.000</td>\n",
       "      <td>3</td>\n",
       "      <td>no</td>\n",
       "      <td>southeast</td>\n",
       "      <td>4449.46200</td>\n",
       "      <td>1</td>\n",
       "      <td>0</td>\n",
       "    </tr>\n",
       "    <tr>\n",
       "      <th>3</th>\n",
       "      <td>33</td>\n",
       "      <td>male</td>\n",
       "      <td>22.705</td>\n",
       "      <td>0</td>\n",
       "      <td>no</td>\n",
       "      <td>northwest</td>\n",
       "      <td>21984.47061</td>\n",
       "      <td>1</td>\n",
       "      <td>0</td>\n",
       "    </tr>\n",
       "    <tr>\n",
       "      <th>4</th>\n",
       "      <td>32</td>\n",
       "      <td>male</td>\n",
       "      <td>28.880</td>\n",
       "      <td>0</td>\n",
       "      <td>no</td>\n",
       "      <td>northwest</td>\n",
       "      <td>3866.85520</td>\n",
       "      <td>1</td>\n",
       "      <td>0</td>\n",
       "    </tr>\n",
       "  </tbody>\n",
       "</table>\n",
       "</div>"
      ],
      "text/plain": [
       "   age     sex     bmi  children smoker     region      charges  male  female\n",
       "0   19  female  27.900         0    yes  southwest  16884.92400     0       1\n",
       "1   18    male  33.770         1     no  southeast   1725.55230     1       0\n",
       "2   28    male  33.000         3     no  southeast   4449.46200     1       0\n",
       "3   33    male  22.705         0     no  northwest  21984.47061     1       0\n",
       "4   32    male  28.880         0     no  northwest   3866.85520     1       0"
      ]
     },
     "execution_count": 53,
     "metadata": {},
     "output_type": "execute_result"
    }
   ],
   "source": [
    "#Creating the male and female new features\n",
    "#I am going to create an array for each of the two features, then go through the elements of the sex column and append a 1 or a 0 to the male array and the female array\n",
    "\n",
    "male = np.array([], dtype=int)\n",
    "female = np.array([], dtype=int)\n",
    "\n",
    "for s in med_dt.sex:\n",
    "    if (s == \"male\"):\n",
    "        male = np.append(male, 1)\n",
    "        female = np.append(female, 0)\n",
    "    else:\n",
    "        male = np.append(male, 0)\n",
    "        female = np.append(female, 1)\n",
    "\n",
    "med_dt[\"male\"] = male\n",
    "med_dt[\"female\"] = female\n",
    "\n",
    "#checking that the new features have been created\n",
    "med_dt.head(5)\n",
    "        "
   ]
  },
  {
   "cell_type": "code",
   "execution_count": 54,
   "id": "08295ab6-9495-43af-96f7-a61e68667a23",
   "metadata": {},
   "outputs": [
    {
     "data": {
      "text/html": [
       "<div>\n",
       "<style scoped>\n",
       "    .dataframe tbody tr th:only-of-type {\n",
       "        vertical-align: middle;\n",
       "    }\n",
       "\n",
       "    .dataframe tbody tr th {\n",
       "        vertical-align: top;\n",
       "    }\n",
       "\n",
       "    .dataframe thead th {\n",
       "        text-align: right;\n",
       "    }\n",
       "</style>\n",
       "<table border=\"1\" class=\"dataframe\">\n",
       "  <thead>\n",
       "    <tr style=\"text-align: right;\">\n",
       "      <th></th>\n",
       "      <th>age</th>\n",
       "      <th>sex</th>\n",
       "      <th>bmi</th>\n",
       "      <th>children</th>\n",
       "      <th>smoker</th>\n",
       "      <th>region</th>\n",
       "      <th>charges</th>\n",
       "      <th>male</th>\n",
       "      <th>female</th>\n",
       "    </tr>\n",
       "  </thead>\n",
       "  <tbody>\n",
       "    <tr>\n",
       "      <th>0</th>\n",
       "      <td>19</td>\n",
       "      <td>female</td>\n",
       "      <td>27.900</td>\n",
       "      <td>0</td>\n",
       "      <td>1</td>\n",
       "      <td>southwest</td>\n",
       "      <td>16884.92400</td>\n",
       "      <td>0</td>\n",
       "      <td>1</td>\n",
       "    </tr>\n",
       "    <tr>\n",
       "      <th>1</th>\n",
       "      <td>18</td>\n",
       "      <td>male</td>\n",
       "      <td>33.770</td>\n",
       "      <td>1</td>\n",
       "      <td>0</td>\n",
       "      <td>southeast</td>\n",
       "      <td>1725.55230</td>\n",
       "      <td>1</td>\n",
       "      <td>0</td>\n",
       "    </tr>\n",
       "    <tr>\n",
       "      <th>2</th>\n",
       "      <td>28</td>\n",
       "      <td>male</td>\n",
       "      <td>33.000</td>\n",
       "      <td>3</td>\n",
       "      <td>0</td>\n",
       "      <td>southeast</td>\n",
       "      <td>4449.46200</td>\n",
       "      <td>1</td>\n",
       "      <td>0</td>\n",
       "    </tr>\n",
       "    <tr>\n",
       "      <th>3</th>\n",
       "      <td>33</td>\n",
       "      <td>male</td>\n",
       "      <td>22.705</td>\n",
       "      <td>0</td>\n",
       "      <td>0</td>\n",
       "      <td>northwest</td>\n",
       "      <td>21984.47061</td>\n",
       "      <td>1</td>\n",
       "      <td>0</td>\n",
       "    </tr>\n",
       "    <tr>\n",
       "      <th>4</th>\n",
       "      <td>32</td>\n",
       "      <td>male</td>\n",
       "      <td>28.880</td>\n",
       "      <td>0</td>\n",
       "      <td>0</td>\n",
       "      <td>northwest</td>\n",
       "      <td>3866.85520</td>\n",
       "      <td>1</td>\n",
       "      <td>0</td>\n",
       "    </tr>\n",
       "  </tbody>\n",
       "</table>\n",
       "</div>"
      ],
      "text/plain": [
       "   age     sex     bmi  children  smoker     region      charges  male  female\n",
       "0   19  female  27.900         0       1  southwest  16884.92400     0       1\n",
       "1   18    male  33.770         1       0  southeast   1725.55230     1       0\n",
       "2   28    male  33.000         3       0  southeast   4449.46200     1       0\n",
       "3   33    male  22.705         0       0  northwest  21984.47061     1       0\n",
       "4   32    male  28.880         0       0  northwest   3866.85520     1       0"
      ]
     },
     "execution_count": 54,
     "metadata": {},
     "output_type": "execute_result"
    }
   ],
   "source": [
    "#I am now going to transform the smoker feature into a numerical feature by using the same approach \n",
    "#In the new smoker feature yes are replaced by 1s and no by 0s\n",
    "smoker = np.array([], dtype=int)\n",
    "for y_n in med_dt.smoker:\n",
    "    if (y_n == \"yes\"):\n",
    "        smoker = np.append(smoker, 1)\n",
    "    else:\n",
    "        smoker = np.append(smoker, 0)\n",
    "\n",
    "med_dt.smoker = smoker\n",
    "\n",
    "#checking that the transformation has been done correctly\n",
    "med_dt.head(5)\n"
   ]
  },
  {
   "cell_type": "markdown",
   "id": "79c38e08-3390-494c-8941-cfb814bd2498",
   "metadata": {},
   "source": [
    "### c) EDA and Outlier detection\n",
    "For this section, I am first going to program a LOF (Local Outlier Factor) approach to detect outliers. Second, I am going to use boxplot to visualize the distributions of data on the different numerical features to find a feature that has at least one outlier. Third, I am going to find that outlier using my LOF approach and decide what to do with it (I am probably gonna remove it...).\n",
    "\n",
    "The Local Outlier Factor (LOF) is an unsupervised anomaly detection algorithm that identifies outliers by comparing the density of a given point to its neighbors. The key idea is that an outlier will have a much lower density compared to surrounding points. LOF assigns an anomaly score to each data point based on how isolated it is from its neighbors. The density is calculated by measuring the reachability distance between a point and its neighbors.\n"
   ]
  },
  {
   "cell_type": "code",
   "execution_count": 44,
   "id": "6109c175-147d-4b3c-ba61-de1bb0553661",
   "metadata": {},
   "outputs": [],
   "source": [
    "#Implementation of the LOF approach using the LocalOutlierFactor class from scikit-learn\n",
    "from sklearn.neighbors import LocalOutlierFactor\n",
    "def apply_Lof(feat):\n",
    "\n",
    "    # Selecting the feat (feature) column for outlier detection\n",
    "    feat_values = med_dt[[feat]]  # Must be in 2D format for LOF\n",
    "\n",
    "    # Applying the Local Outlier Factor\n",
    "    lof = LocalOutlierFactor(n_neighbors=50, contamination=0.008)  # 0.8% expected outliers\n",
    "    outlier_labels = lof.fit_predict(feat_values)\n",
    "\n",
    "    # LOF returns -1 for outliers, 1 for inliers\n",
    "    med_dt['outlier_'+feat] = outlier_labels  # Adding results to dataset\n",
    "\n",
    "    # Filtering out the outliers\n",
    "    outliers = med_dt[med_dt['outlier_'+feat] == -1]\n",
    "\n",
    "    #return the detected outliers\n",
    "    print(outliers[[feat]])"
   ]
  },
  {
   "cell_type": "code",
   "execution_count": 30,
   "id": "aa7ee61f-3189-43f6-bf7f-e4d822df9613",
   "metadata": {},
   "outputs": [
    {
     "data": {
      "image/png": "[encoded data removed]",
      "text/plain": [
       "<Figure size 900x800 with 1 Axes>"
      ]
     },
     "metadata": {},
     "output_type": "display_data"
    }
   ],
   "source": [
    "import matplotlib.pyplot as plt\n",
    "#Now i am going to use boxplot to visualize the distributions of data on different features to find the feature having at least one outlier\n",
    "med_dt.boxplot(column = \"bmi\",\n",
    "               figsize = (9,8),\n",
    "               color = \"blue\")\n",
    "plt.show()\n",
    "\n",
    "#As we can see in the boxplot, the dots above the blue line are outliers, so we're gonna use our LOF approach on the BMI feature to find those outliers "
   ]
  },
  {
   "cell_type": "code",
   "execution_count": 51,
   "id": "52e14cd6-749c-4896-8f16-b49e6783e098",
   "metadata": {},
   "outputs": [
    {
     "name": "stdout",
     "output_type": "stream",
     "text": [
      "        bmi\n",
      "116   49.06\n",
      "172   15.96\n",
      "286   48.07\n",
      "401   47.52\n",
      "438   46.75\n",
      "543   47.41\n",
      "847   50.38\n",
      "860   47.60\n",
      "1047  52.58\n",
      "1088  47.74\n",
      "1317  53.13\n"
     ]
    }
   ],
   "source": [
    "#In this cell, we are using the apply_Lof function to find the outliers\n",
    "\n",
    "apply_Lof(\"bmi\")\n",
    "#There are 11 outliers in my datasets using the parameters n_neighbors=50, contamination=0.008 for the LocalOutlierFactor class\n",
    "#I am going to remove those outliers instead of considering them as missing values and imputing them using Linear regression\n",
    "\n",
    "med_dt_no_outlier = med_dt[med_dt['outlier_bmi'] == 1]  # Keep only inliers"
   ]
  },
  {
   "cell_type": "markdown",
   "id": "67c5617b-ca27-4970-ab93-05d42b38eeea",
   "metadata": {},
   "source": [
    "### d) Predictive analysis : Linear Regression (Explore the Linear regression method suggested in Scikit-learn)\n",
    "The LinearRegression class from the sklearn.linear_model module is used to model the relationship between a dependent variable (target) and one or more independent variables (features). It assumes a linear relationship between the feature(s) and the target variable."
   ]
  },
  {
   "cell_type": "markdown",
   "id": "76456213-569a-4b01-99d4-fcce65e0570e",
   "metadata": {},
   "source": [
    "### e) feature engineering"
   ]
  },
  {
   "cell_type": "markdown",
   "id": "d0bc9960-7299-4da9-865b-152c2fad0492",
   "metadata": {},
   "source": [
    "### f) Empirical Study \n"
   ]
  },
  {
   "cell_type": "code",
   "execution_count": 55,
   "id": "88a9476f-b6bd-4b38-ac8f-33ad855f820d",
   "metadata": {},
   "outputs": [
    {
     "name": "stdout",
     "output_type": "stream",
     "text": [
      "Training set: 802 samples\n",
      "Validation set: 268 samples\n",
      "Test set: 268 samples\n"
     ]
    }
   ],
   "source": [
    "from sklearn.model_selection import train_test_split\n",
    "from sklearn.linear_model import LinearRegression\n",
    "from sklearn.metrics import mean_squared_error, r2_score\n",
    "\n",
    "X = med_dt[['bmi']]  \n",
    "y = med_dt['charges'] \n",
    "\n",
    "# a. Split your data into 3 subsets for train, validation and test sets. \n",
    "\n",
    "\n",
    "# First, split into Training (60%) and Temp (40%)\n",
    "X_train, X_temp, y_train, y_temp = train_test_split(X, y, test_size=0.4, random_state=42)\n",
    "\n",
    "# Now split the Temp dataset into Validation (20%) and Test (20%)\n",
    "X_val, X_test, y_val, y_test = train_test_split(X_temp, y_temp, test_size=0.5, random_state=42)\n",
    "\n",
    "# Print dataset sizes\n",
    "print(f\"Training set: {len(X_train)} samples\")\n",
    "print(f\"Validation set: {len(X_val)} samples\")\n",
    "print(f\"Test set: {len(X_test)} samples\")"
   ]
  },
  {
   "cell_type": "markdown",
   "id": "f1636ddb-c1b0-4a4c-9d49-c64b30c6220b",
   "metadata": {},
   "source": [
    "#### b. Decide on some evaluation metrics\n",
    "I decided to use the MSE and the R2 score"
   ]
  },
  {
   "cell_type": "code",
   "execution_count": 56,
   "id": "f00a7824-97c7-403d-abd3-93a014e21075",
   "metadata": {},
   "outputs": [
    {
     "name": "stdout",
     "output_type": "stream",
     "text": [
      "Mean Squared Error (MSE): 145665748.93\n",
      "R² Score: 0.0609\n"
     ]
    }
   ],
   "source": [
    "# c. As baseline, use the linear regression with baseline settings, without outlier removal\n",
    "\n",
    "# Initialize Linear Regression model\n",
    "model = LinearRegression()\n",
    "# Train (fit) the model\n",
    "model.fit(X_train, y_train)\n",
    "\n",
    "#The model has been trained, we're now going to predict the charges value using the model and evaluate it \n",
    "y_pred = model.predict(X_test)\n",
    "\n",
    "mse = mean_squared_error(y_test, y_pred)\n",
    "r2 = r2_score(y_test, y_pred)\n",
    "\n",
    "print(f\"Mean Squared Error (MSE): {mse:.2f}\")\n",
    "print(f\"R² Score: {r2:.4f}\")  # Higher R² means better fit"
   ]
  },
  {
   "cell_type": "code",
   "execution_count": 57,
   "id": "e1d8e424-1dfd-4c37-9a5b-984a337e314f",
   "metadata": {},
   "outputs": [
    {
     "data": {
      "image/png": "[encoded data removed]",
      "text/plain": [
       "<Figure size 640x480 with 1 Axes>"
      ]
     },
     "metadata": {},
     "output_type": "display_data"
    }
   ],
   "source": [
    "plt.scatter(X_test, y_test, color='blue', label=\"Actual\")\n",
    "plt.plot(X_test, y_pred, color='red', linewidth=2, label=\"Regression Line\")\n",
    "plt.xlabel(\"BMI\")\n",
    "plt.ylabel(\"Charges\")\n",
    "plt.title(\"Linear Regression: Charges vs BMI\")\n",
    "plt.legend()\n",
    "plt.show()"
   ]
  },
  {
   "cell_type": "code",
   "execution_count": 59,
   "id": "0eac1a30-d06b-4c85-91e0-7a77f4812a48",
   "metadata": {},
   "outputs": [
    {
     "name": "stdout",
     "output_type": "stream",
     "text": [
      "Training set: 796 samples\n",
      "Validation set: 265 samples\n",
      "Test set: 266 samples\n"
     ]
    }
   ],
   "source": [
    "#d. I am going to train a new model with the dataset without outlier \n",
    "X = med_dt_no_outlier[['bmi']]  \n",
    "y =  med_dt_no_outlier['charges'] \n",
    "\n",
    "# a. Split your data into 3 subsets for train, validation and test sets. \n",
    "\n",
    "\n",
    "# First, split into Training (60%) and Temp (40%)\n",
    "X_train, X_temp, y_train, y_temp = train_test_split(X, y, test_size=0.4, random_state=42)\n",
    "\n",
    "# Now split the Temp dataset into Validation (20%) and Test (20%)\n",
    "X_val, X_test, y_val, y_test = train_test_split(X_temp, y_temp, test_size=0.5, random_state=42)\n",
    "\n",
    "# Print dataset sizes\n",
    "print(f\"Training set: {len(X_train)} samples\")\n",
    "print(f\"Validation set: {len(X_val)} samples\")\n",
    "print(f\"Test set: {len(X_test)} samples\")"
   ]
  },
  {
   "cell_type": "code",
   "execution_count": 60,
   "id": "e5a19b5c-29f8-4e6b-a428-165b3aa07a44",
   "metadata": {},
   "outputs": [
    {
     "name": "stdout",
     "output_type": "stream",
     "text": [
      "Mean Squared Error (MSE): 138864244.29\n",
      "R² Score: 0.0056\n"
     ]
    }
   ],
   "source": [
    "# Initialize Linear Regression model\n",
    "model = LinearRegression()\n",
    "# Train (fit) the model\n",
    "model.fit(X_train, y_train)\n",
    "\n",
    "#The model has been trained, we're now going to predict the charges value using the model and evaluate it \n",
    "y_pred = model.predict(X_test)\n",
    "\n",
    "mse = mean_squared_error(y_test, y_pred)\n",
    "r2 = r2_score(y_test, y_pred)\n",
    "\n",
    "print(f\"Mean Squared Error (MSE): {mse:.2f}\")\n",
    "print(f\"R² Score: {r2:.4f}\")  # Higher R² means better fit"
   ]
  },
  {
   "cell_type": "code",
   "execution_count": 61,
   "id": "f56cf947-c4c3-4232-b527-edec2e9ad012",
   "metadata": {},
   "outputs": [
    {
     "data": {
      "image/png": "[encoded data removed]",
      "text/plain": [
       "<Figure size 640x480 with 1 Axes>"
      ]
     },
     "metadata": {},
     "output_type": "display_data"
    }
   ],
   "source": [
    "plt.scatter(X_test, y_test, color='blue', label=\"Actual\")\n",
    "plt.plot(X_test, y_pred, color='red', linewidth=2, label=\"Regression Line\")\n",
    "plt.xlabel(\"BMI\")\n",
    "plt.ylabel(\"Charges\")\n",
    "plt.title(\"Linear Regression: Charges vs BMI\")\n",
    "plt.legend()\n",
    "plt.show()"
   ]
  },
  {
   "cell_type": "markdown",
   "id": "99d11e0f-ac01-4eeb-8bc9-fc990b43826e",
   "metadata": {},
   "source": [
    "### g) Result anlaysis and Conclusion\n",
    "In this empirical study, we explored the impact of outlier removal using the Local Outlier Factor (LOF) method on a Linear Regression model. After comparing the models trained on both the original dataset and the dataset with outliers removed, we observed no significant difference in performance. The model’s predictive ability remained virtually unchanged, suggesting that the detected outliers did not strongly influence the regression results.\n",
    "\n",
    "This outcome highlights the importance of carefully assessing the role of outliers in a dataset before deciding to remove them. While outlier removal is often expected to improve model accuracy, in this case, it did not yield any noticeable benefits. A more refined approach—such as using robust regression techniques, feature transformations, or alternative outlier detection methods—could potentially lead to better improvements in future studies.\n",
    "\n",
    "Ultimately, this experiment underscores the need for a case-by-case evaluation of preprocessing techniques rather than assuming that outlier removal will always enhance model performance."
   ]
  },
  {
   "cell_type": "markdown",
   "id": "6a68b1ae-166d-4fe4-b174-ecbe36b0be67",
   "metadata": {},
   "source": [
    "## 5. References\n",
    "    https://scikit-learn.org/stable/modules/generated/sklearn.linear_model.LinearRegression.html"
   ]
  },
  {
   "cell_type": "code",
   "execution_count": null,
   "id": "2a691724-1595-4366-97e1-dee146d76228",
   "metadata": {},
   "outputs": [],
   "source": []
  }
 ],
 "metadata": {
  "kernelspec": {
   "display_name": "Python 3 (ipykernel)",
   "language": "python",
   "name": "python3"
  },
  "language_info": {
   "codemirror_mode": {
    "name": "ipython",
    "version": 3
   },
   "file_extension": ".py",
   "mimetype": "text/x-python",
   "name": "python",
   "nbconvert_exporter": "python",
   "pygments_lexer": "ipython3",
   "version": "3.13.1"
  }
 },
 "nbformat": 4,
 "nbformat_minor": 5
}
